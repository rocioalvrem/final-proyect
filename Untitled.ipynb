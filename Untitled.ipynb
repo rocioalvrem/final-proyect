{
 "cells": [
  {
   "cell_type": "code",
   "execution_count": null,
   "metadata": {},
   "outputs": [],
   "source": [
    "import pandas as pd\n",
    "\n",
    "# Suponiendo que tienes un DataFrame llamado df y las columnas son 'columna1' y 'columna2'\n",
    "\n",
    "# Verificar si las dos columnas toman el mismo valor numérico y el mismo signo\n",
    "condicion = (df['columna1'] == df['columna2']) & (df['columna1'] * df['columna2'] > 0)\n",
    "\n",
    "# Filtrar el DataFrame con la condición\n",
    "resultado = df[condicion]\n",
    "\n",
    "# Si resultado está vacío, significa que las dos columnas no tienen el mismo valor numérico y signo\n",
    "if resultado.empty:\n",
    "    print(\"Las dos columnas no tienen el mismo valor numérico y signo.\")\n",
    "else:\n",
    "    print(\"Las dos columnas tienen el mismo valor numérico y signo.\")"
   ]
  },
  {
   "cell_type": "code",
   "execution_count": 2,
   "metadata": {},
   "outputs": [
    {
     "ename": "NameError",
     "evalue": "name 'data' is not defined",
     "output_type": "error",
     "traceback": [
      "\u001b[1;31m---------------------------------------------------------------------------\u001b[0m",
      "\u001b[1;31mNameError\u001b[0m                                 Traceback (most recent call last)",
      "\u001b[1;32m<ipython-input-2-43d0fe2ed233>\u001b[0m in \u001b[0;36m<module>\u001b[1;34m\u001b[0m\n\u001b[0;32m      5\u001b[0m \u001b[1;33m\u001b[0m\u001b[0m\n\u001b[0;32m      6\u001b[0m \u001b[1;31m# Primero, asegúrate de que la columna 'fecha' sea del tipo datetime\u001b[0m\u001b[1;33m\u001b[0m\u001b[1;33m\u001b[0m\u001b[1;33m\u001b[0m\u001b[0m\n\u001b[1;32m----> 7\u001b[1;33m \u001b[0mdata\u001b[0m\u001b[1;33m[\u001b[0m\u001b[1;34m'fecha'\u001b[0m\u001b[1;33m]\u001b[0m \u001b[1;33m=\u001b[0m \u001b[0mpd\u001b[0m\u001b[1;33m.\u001b[0m\u001b[0mto_datetime\u001b[0m\u001b[1;33m(\u001b[0m\u001b[0mdata\u001b[0m\u001b[1;33m[\u001b[0m\u001b[1;34m'fecha'\u001b[0m\u001b[1;33m]\u001b[0m\u001b[1;33m)\u001b[0m\u001b[1;33m\u001b[0m\u001b[1;33m\u001b[0m\u001b[0m\n\u001b[0m\u001b[0;32m      8\u001b[0m \u001b[1;33m\u001b[0m\u001b[0m\n\u001b[0;32m      9\u001b[0m \u001b[1;31m# Ordena los datos por cliente y fecha para poder realizar la comprobación secuencial\u001b[0m\u001b[1;33m\u001b[0m\u001b[1;33m\u001b[0m\u001b[1;33m\u001b[0m\u001b[0m\n",
      "\u001b[1;31mNameError\u001b[0m: name 'data' is not defined"
     ]
    }
   ],
   "source": [
    "import pandas as pd\n",
    "\n",
    "# Supongamos que tienes un DataFrame llamado 'data' con tus datos\n",
    "# y que 'cliente', 'fecha' y 'situacion_default' son nombres de columnas\n",
    "\n",
    "# Primero, asegúrate de que la columna 'fecha' sea del tipo datetime\n",
    "data['fecha'] = pd.to_datetime(data['fecha'])\n",
    "\n",
    "# Ordena los datos por cliente y fecha para poder realizar la comprobación secuencial\n",
    "data.sort_values(by=['cliente', 'fecha'], inplace=True)\n",
    "\n",
    "# Crear una nueva columna para identificar si el cliente ha pasado 3 meses en 'Probation Period' consecutivos\n",
    "data['probation_period_3_consecutive_months'] = (\n",
    "    data.groupby('cliente')['situacion_default']\n",
    "    .rolling(window=3)  # Ventana de 3 meses\n",
    "    .apply(lambda x: (x == 'Probation Period').all(), raw=True)\n",
    "    .reset_index(level=0, drop=True)\n",
    ")\n",
    "\n",
    "# Identificar aquellos clientes que no pasan 3 meses consecutivos en 'Probation Period'\n",
    "clientes_con_menos_de_3_meses_en_probation = data.loc[\n",
    "    (data['situacion_default'] == 'Probation Period') &  # Clientes en 'Probation Period'\n",
    "    (~data['probation_period_3_consecutive_months'])  # Que no tienen 3 meses consecutivos en 'Probation Period'\n",
    "]['cliente'].unique()\n"
   ]
  },
  {
   "cell_type": "code",
   "execution_count": null,
   "metadata": {},
   "outputs": [],
   "source": [
    "# Ordena los datos por cliente y fecha para poder realizar la comprobación secuencial\n",
    "data.sort_values(by=['cliente', 'fecha'], inplace=True)\n",
    "\n",
    "# Definir una función personalizada para verificar si todos los valores en la ventana son \"Probation Period\"\n",
    "def check_probation_period(window):\n",
    "    return (window == 'Probation Period').all()\n",
    "\n",
    "# Crear una nueva columna para identificar si el cliente ha pasado 3 meses en 'Probation Period' consecutivos\n",
    "data['probation_period_3_consecutive_months'] = (\n",
    "    data.groupby('cliente')['situacion_default']\n",
    "    .rolling(window=3)  # Ventana de 3 meses\n",
    "    .apply(check_probation_period, raw=True)\n",
    "    .reset_index(level=0, drop=True)\n",
    ")\n",
    "\n",
    "# Identificar aquellos clientes que no pasan 3 meses consecutivos en 'Probation Period'\n",
    "clientes_con_menos_de_3_meses_en_probation = data.loc[\n",
    "    (data['situacion_default'] == 'Probation Period') &  # Clientes en 'Probation Period'\n",
    "    (~data['probation_period_3_consecutive_months'])  # Que no tienen 3 meses consecutivos en 'Probation Period'\n",
    "]['cliente'].unique()\n",
    "\n",
    "# Ahora, 'clientes_con_menos_de_3_meses_en_probation' contiene los IDs de clientes que no cumplen la condición\n",
    "\n",
    "# Puedes usar esta información para filtrar tu DataFrame original o hacer cualquier otra tarea necesaria."
   ]
  },
  {
   "cell_type": "code",
   "execution_count": null,
   "metadata": {},
   "outputs": [],
   "source": [
    "import pandas as pd\n",
    "\n",
    "# Supongamos que tienes un DataFrame llamado 'data' con tus datos\n",
    "# y que 'cliente', 'fecha' y 'situacion_default' son nombres de columnas\n",
    "\n",
    "# Primero, asegúrate de que la columna 'fecha' sea del tipo datetime\n",
    "data['fecha'] = pd.to_datetime(data['fecha'])\n",
    "\n",
    "# Ordena los datos por cliente y fecha para poder realizar la comprobación secuencial\n",
    "data.sort_values(by=['cliente', 'fecha'], inplace=True)\n",
    "\n",
    "# Crear una nueva columna para identificar si el cliente ha pasado 3 meses en 'Probation Period' consecutivos\n",
    "data['probation_period_3_consecutive_months'] = (\n",
    "    data.groupby('cliente')['situacion_default']\n",
    "    .rolling(window=3)  # Ventana de 3 meses\n",
    "    .apply(lambda x: (x == 'Probation Period').all(), raw=True)\n",
    "    .reset_index(level=0, drop=True)\n",
    "    .astype(bool)  # Convertir a tipo booleano\n",
    ")\n",
    "\n",
    "# Identificar aquellos clientes que no pasan 3 meses consecutivos en 'Probation Period'\n",
    "clientes_con_menos_de_3_meses_en_probation = data.loc[\n",
    "    (data['situacion_default'] == 'Probation Period') &  # Clientes en 'Probation Period'\n",
    "    (~data['probation_period_3_consecutive_months'])  # Que no tienen 3 meses consecutivos en 'Probation Period'\n",
    "]['cliente'].unique()\n",
    "\n",
    "# Ahora, 'clientes_con_menos_de_3_meses_en_probation' contiene los IDs de clientes que no cumplen la condición\n",
    "\n",
    "# Puedes usar esta información para filtrar tu DataFrame original o hacer cualquier otra tarea necesaria."
   ]
  },
  {
   "cell_type": "code",
   "execution_count": null,
   "metadata": {},
   "outputs": [],
   "source": [
    "# Definir una función personalizada para verificar si todos los valores en la ventana son \"Probation Period\"\n",
    "def check_probation_period(window):\n",
    "    return (window == 'Probation Period').all()\n",
    "\n",
    "# Crear una nueva columna para identificar si el cliente ha pasado 3 meses en 'Probation Period' consecutivos\n",
    "data['probation_period_3_consecutive_months'] = (\n",
    "    data.groupby('cliente')['situacion_default']\n",
    "    .rolling(window=3)  # Ventana de 3 meses\n",
    "    .apply(check_probation_period)\n",
    "    .reset_index(level=0, drop=True)\n",
    ")\n",
    "\n",
    "# Identificar aquellos clientes que no pasan 3 meses consecutivos en 'Probation Period'\n",
    "clientes_con_menos_de_3_meses_en_probation = data.loc[\n",
    "    (data['situacion_default'] == 'Probation Period') &  # Clientes en 'Probation Period'\n",
    "    (~data['probation_period_3_consecutive_months'])  # Que no tienen 3 meses consecutivos en 'Probation Period'\n",
    "]['cliente'].unique()"
   ]
  }
 ],
 "metadata": {
  "kernelspec": {
   "display_name": "Python 3",
   "language": "python",
   "name": "python3"
  },
  "language_info": {
   "codemirror_mode": {
    "name": "ipython",
    "version": 3
   },
   "file_extension": ".py",
   "mimetype": "text/x-python",
   "name": "python",
   "nbconvert_exporter": "python",
   "pygments_lexer": "ipython3",
   "version": "3.7.6"
  }
 },
 "nbformat": 4,
 "nbformat_minor": 4
}
