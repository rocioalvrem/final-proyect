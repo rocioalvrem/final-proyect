{
 "cells": [
  {
   "cell_type": "code",
   "execution_count": null,
   "metadata": {},
   "outputs": [],
   "source": [
    "import pandas as pd\n",
    "\n",
    "# Suponiendo que tienes un DataFrame llamado df y las columnas son 'columna1' y 'columna2'\n",
    "\n",
    "# Verificar si las dos columnas toman el mismo valor numérico y el mismo signo\n",
    "condicion = (df['columna1'] == df['columna2']) & (df['columna1'] * df['columna2'] > 0)\n",
    "\n",
    "# Filtrar el DataFrame con la condición\n",
    "resultado = df[condicion]\n",
    "\n",
    "# Si resultado está vacío, significa que las dos columnas no tienen el mismo valor numérico y signo\n",
    "if resultado.empty:\n",
    "    print(\"Las dos columnas no tienen el mismo valor numérico y signo.\")\n",
    "else:\n",
    "    print(\"Las dos columnas tienen el mismo valor numérico y signo.\")"
   ]
  }
 ],
 "metadata": {
  "kernelspec": {
   "display_name": "Python 3",
   "language": "python",
   "name": "python3"
  },
  "language_info": {
   "codemirror_mode": {
    "name": "ipython",
    "version": 3
   },
   "file_extension": ".py",
   "mimetype": "text/x-python",
   "name": "python",
   "nbconvert_exporter": "python",
   "pygments_lexer": "ipython3",
   "version": "3.7.6"
  }
 },
 "nbformat": 4,
 "nbformat_minor": 4
}
